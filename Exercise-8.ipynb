{
 "cells": [
  {
   "cell_type": "code",
   "execution_count": 1,
   "metadata": {},
   "outputs": [],
   "source": [
    "import numpy as np\n",
    "import matplotlib.pyplot as plt\n",
    "from matplotlib import cm\n",
    "\n",
    "import celllist as cl\n",
    "import verlet as vl\n",
    "import pse\n",
    "import particles as p"
   ]
  },
  {
   "cell_type": "markdown",
   "metadata": {},
   "source": [
    "There QS model comprises three components:\n",
    "1. Diffusion and exponential decay of signaling molecules outside bacteria (Diffusion)\n",
    "2. An ODE model for the production of molecules inside bacteria (Reaction)\n",
    "3. Handling of the influx and outflix of molecules across the cell membrane (Advection)\n",
    "\n",
    "*Not resolving the spatial extension of a bacterium*\n",
    "\n",
    "Implement the source term of the ODE inside a cell, $f$, find the formula on the JMB paper:\n",
    "\n",
    "$f(x_c) := \\alpha + \\frac{\\beta x^n_c}{x^n_\\text{thresh} + x^n_c} - \\gamma_cx_c$\n",
    "\n",
    "where\n",
    "- $\\alpha$ is the low production rate of AHL\n",
    "- $\\beta$ is the increase of production rate of AHL\n",
    "- $x_c$ is the mass of AHL within the cytoplasm\n",
    "- $x_e$ is the mass of AHL outside the cell\n",
    "- $\\gamma_c$ is the degradation rate of AHL in the cytosol\n",
    "\n",
    "The second sum term in the r.h.s. can be expressed in terms of concentrations, too (volumes are dividing on both sides) "
   ]
  },
  {
   "cell_type": "code",
   "execution_count": 2,
   "metadata": {},
   "outputs": [],
   "source": [
    "def fQS(u_c: np.ndarray,\n",
    "        alpha: float, beta:\n",
    "        float, u_thresh: float,\n",
    "        n: int, gamma: float) -> np.ndarray:\n",
    "    \"\"\"\n",
    "    u_c: np.ndarray with shape (numParticles, 1)\n",
    "    output: np.ndarray with shape (numParticles, 1)\n",
    "    \"\"\"\n",
    "    # We are not considering the last term gamma_c*u_c\n",
    "    return alpha + (beta*u_c**n)/(u_thresh**n + u_c**n) - gamma*u_c"
   ]
  },
  {
   "cell_type": "code",
   "execution_count": 3,
   "metadata": {},
   "outputs": [],
   "source": [
    "alpha = 1\n",
    "beta = 100\n",
    "u_thresh = 2\n",
    "n = 10\n",
    "u_c = np.linspace(0, 10, 100)\n",
    "\n",
    "f = fQS(u_c, alpha, beta, u_thresh, n, 0.5)"
   ]
  },
  {
   "cell_type": "code",
   "execution_count": 4,
   "metadata": {},
   "outputs": [
    {
     "data": {
      "image/png": "[encoded data removed]",
      "text/plain": [
       "<Figure size 432x288 with 1 Axes>"
      ]
     },
     "metadata": {
      "needs_background": "light"
     },
     "output_type": "display_data"
    }
   ],
   "source": [
    "plt.plot(u_c, f, color=\"red\")\n",
    "plt.xlabel(r\"Concentration of AHL within the cytoplasm, $u_c$\")\n",
    "plt.ylabel(r\"Source term of the ODE, $f(u_c)$\")\n",
    "plt.title(r\"Testing implementation of $f(u_c)$\")\n",
    "plt.show()"
   ]
  },
  {
   "cell_type": "code",
   "execution_count": 5,
   "metadata": {},
   "outputs": [],
   "source": [
    "def applyQS(u_e: np.ndarray, \n",
    "            u_c: np.ndarray, \n",
    "            QScellIndex: np.ndarray,\n",
    "            d_1: float, d_2:float,\n",
    "            gamma_e: float,\n",
    "            **kwargs) -> (np.ndarray, np.ndarray):\n",
    "\n",
    "    _u_c = np.zeros(len(u_e))\n",
    "    _u_c[QScellIndex] = u_c[QScellIndex]\n",
    "    \n",
    "    _u_e = np.zeros(len(u_e))\n",
    "    _u_e[QScellIndex] = u_e[QScellIndex]\n",
    "    \n",
    "    fQS_filter = np.zeros(len(u_e))\n",
    "    fQS_filter[QScellIndex] = fQS(_u_c, **kwargs)[QScellIndex]\n",
    "    \n",
    "    du_c = fQS_filter + d_1*_u_e - d_2*_u_c\n",
    "    du_e = -d_1*_u_e + d_2*_u_c - gamma_e*u_e\n",
    "    return du_e, du_c"
   ]
  },
  {
   "cell_type": "markdown",
   "metadata": {},
   "source": [
    "### Part 2: Couple the QS reaction with Diffusion, random grid"
   ]
  },
  {
   "cell_type": "code",
   "execution_count": 6,
   "metadata": {},
   "outputs": [],
   "source": [
    "def interactiveAdvectionDiffusionReaction(T, N, particleMat,\n",
    "                                          verletList, epsilon,\n",
    "                                          dim, QScellIndex,\n",
    "                                          d_1, d_2, gamma_e,\n",
    "                                          alpha, beta, u_thresh,\n",
    "                                          n, gamma, h, cutoff, numStren):\n",
    "    t = 0\n",
    "    fig = plt.figure()\n",
    "    ax = fig.add_subplot(111)\n",
    "    plt.ion()\n",
    "\n",
    "    fig.canvas.draw()\n",
    "\n",
    "    X = particleMat[:,0].reshape((N, N))\n",
    "    Y = particleMat[:,1].reshape((N, N))\n",
    "\n",
    "    while t < T:\n",
    "        # Run the PSE\n",
    "        pseSum = pse.applyPSE(particleMat,verletList,epsilon,1,dim)\n",
    "\n",
    "        # Apply the QS to all particles\n",
    "        br = applyQS(particleMat[:,dim+1], \n",
    "                     particleMat[:,dim+2], \n",
    "                     QScellIndex,\n",
    "                     d_1, d_2,\n",
    "                     gamma_e = gamma_e,\n",
    "                     alpha = alpha,\n",
    "                     beta = beta,\n",
    "                     u_thresh = u_thresh,\n",
    "                     n = n, gamma = gamma)\n",
    "\n",
    "        # Apply for all strengths\n",
    "        particleMat[:,(dim+1)] = particleMat[:,(dim+1)] + (pseSum[:,0]*V*D/(epsilon**2) + br[0])*dt\n",
    "        particleMat[:,(dim+2)] = particleMat[:,(dim+2)] + br[1]*dt\n",
    "\n",
    "        # Apply periodic boundary conditions\n",
    "        tempMat = particleMat[:,(dim+1):].reshape((N,N,-1))\n",
    "        tempMat = pse.periodicBoundaries(tempMat,h,cutoff,bW,N,N)\n",
    "        particleMat[:,(dim+1):] = tempMat.reshape((numParticles, numStren))\n",
    "\n",
    "        # Concentration across space plot\n",
    "        U=particleMat[:,dim+1].reshape((N, N))\n",
    "        ax.clear()\n",
    "        ax.pcolormesh(X,Y,U, cmap = \"viridis\")\n",
    "        ax.set_title(\"t = {:0.2f}s, $\\sum u_e = {:0.2f}$, $\\sum u_c = {:0.2f}$\".format(t, np.sum(particleMat[:,dim+1]), np.sum(particleMat[:,dim+2])))\n",
    "        fig.canvas.draw()\n",
    "        plt.pause(0.001)\n",
    "\n",
    "        # Update the time step\n",
    "        t += dt"
   ]
  },
  {
   "cell_type": "code",
   "execution_count": 7,
   "metadata": {},
   "outputs": [],
   "source": [
    "d_1 = 0.25\n",
    "d_2 = 2.5"
   ]
  },
  {
   "cell_type": "code",
   "execution_count": 8,
   "metadata": {},
   "outputs": [],
   "source": [
    "\"\"\"\n",
    "Global parameters of the simulation\n",
    "\"\"\"\n",
    "\n",
    "# Number of particles per dimension\n",
    "N = 51\n",
    "# Bounds of the grid\n",
    "lBounds, uBounds = 0, 50\n",
    "# Dimensions of the grid, and type\n",
    "dim, kind = 2, 1\n",
    "# Total number of particles\n",
    "numParticles = N**dim\n",
    "# Grid spacing\n",
    "h = (uBounds-lBounds)/(N - 1)\n",
    "# Mollification width\n",
    "epsilon = h\n",
    "# Paramters for the cell list\n",
    "cutoff = 3*epsilon\n",
    "cellSide = cutoff\n",
    "numStren = 2\n",
    "\n",
    "# Diffusion constant\n",
    "D = 1\n",
    "# Maximum time of the simulation\n",
    "T = 20\n",
    "# Time step\n",
    "dt = h**2/(4*D)\n",
    "# All particles have same volume,\n",
    "# corresponds to the cell width\n",
    "V = h**2\n",
    "\n",
    "# For the periodic boundary conditions\n",
    "bW = np.round(cutoff/h)"
   ]
  },
  {
   "cell_type": "code",
   "execution_count": 9,
   "metadata": {},
   "outputs": [],
   "source": [
    "# Initial time to 0\n",
    "t = 0\n",
    "\n",
    "particlePos = p.createParticles(numParticles,dim,lBounds,uBounds,kind)\n",
    "# We will store u_c and u_e (2 properties), initialized all to zero\n",
    "particleStrength = np.zeros((numParticles, 2))\n",
    "\n",
    "particleMat,cellList,numCells = cl.createCellList(particlePos,lBounds,uBounds,cellSide)\n",
    "verletList = vl.createVerletList(particleMat,cellList,numCells,cutoff)\n",
    "\n",
    "particleMat = np.hstack((particleMat, particleStrength))"
   ]
  },
  {
   "cell_type": "code",
   "execution_count": 10,
   "metadata": {},
   "outputs": [],
   "source": [
    "# Bacteria center of the grid\n",
    "idx_center = np.ravel_multi_index(np.array([26, 0]), (50, 50))\n",
    "# Save as an index\n",
    "QScellIndex = np.array([idx_center])\n",
    "# Initialize the u_c for that cell as u_thresh\n",
    "# knowing that particleMat is [x, y, cell, u_e, u_c]\n",
    "particleMat[idx_center, dim+2] = u_thresh\n",
    "\n",
    "# Set the gamma\n",
    "gamma = 0.5\n",
    "gamma_e = 0.5"
   ]
  },
  {
   "cell_type": "code",
   "execution_count": 11,
   "metadata": {},
   "outputs": [],
   "source": [
    "%matplotlib qt5\n",
    "plt.rcParams[\"figure.figsize\"] = (5, 5)"
   ]
  },
  {
   "cell_type": "code",
   "execution_count": 12,
   "metadata": {
    "scrolled": true
   },
   "outputs": [],
   "source": [
    "interactiveAdvectionDiffusionReaction(T, N, \n",
    "                                      particleMat, verletList, epsilon,\n",
    "                                      dim, QScellIndex, d_1, d_2, gamma_e,\n",
    "                                      alpha, beta, u_thresh, n, gamma, \n",
    "                                      h, cutoff, numStren)"
   ]
  },
  {
   "cell_type": "markdown",
   "metadata": {},
   "source": [
    "### Test-case 2: Activating luminescence of a nearby bacterium"
   ]
  },
  {
   "cell_type": "code",
   "execution_count": 13,
   "metadata": {},
   "outputs": [],
   "source": [
    "particlePos = p.createParticles(numParticles,dim,lBounds,uBounds,kind)\n",
    "particleStrength = np.zeros((numParticles, 2))\n",
    "\n",
    "particleMat,cellList,numCells = cl.createCellList(particlePos,lBounds,uBounds,cellSide)\n",
    "verletList = vl.createVerletList(particleMat,cellList,numCells,cutoff)\n",
    "\n",
    "particleMat = np.hstack((particleMat, particleStrength))"
   ]
  },
  {
   "cell_type": "code",
   "execution_count": 14,
   "metadata": {},
   "outputs": [],
   "source": [
    "# Bacteria center of the grid\n",
    "idx_center = np.ravel_multi_index(np.array([26, 0]), (50, 50))\n",
    "# Save as an index\n",
    "QScellIndex = np.array([idx_center, idx_center + 4])\n",
    "# Initialize the u_c for that cell as u_thresh\n",
    "# knowing that particleMat is [x, y, cell, u_e, u_c]\n",
    "particleMat[idx_center, dim+2] = u_thresh\n",
    "\n",
    "# Set the gamma\n",
    "gamma = 0.05\n",
    "gamma_e = gamma"
   ]
  },
  {
   "cell_type": "code",
   "execution_count": 15,
   "metadata": {},
   "outputs": [],
   "source": [
    "interactiveAdvectionDiffusionReaction(T, N, \n",
    "                                      particleMat, verletList, epsilon,\n",
    "                                      dim, QScellIndex, d_1, d_2, gamma_e,\n",
    "                                      alpha, beta, u_thresh, n, gamma, \n",
    "                                      h, cutoff, numStren)"
   ]
  },
  {
   "cell_type": "markdown",
   "metadata": {},
   "source": [
    "### Part 3: Final test case with $\\texttt{bacterialPos.dat}$"
   ]
  },
  {
   "cell_type": "code",
   "execution_count": 16,
   "metadata": {},
   "outputs": [],
   "source": [
    "def QS_detect(route):\n",
    "    particles = []\n",
    "    lBounds, uBounds = 0, 1\n",
    "    # read the file\n",
    "    with open(route, \"r\") as f:\n",
    "        for l in f.read().splitlines():\n",
    "            particle = l.split(sep = \" \")\n",
    "            particle = list(filter((\"\").__ne__, particle))\n",
    "            particles.append(particle)\n",
    "        \n",
    "    # Reformat the array, detect bounds\n",
    "    particles = np.array(particles, dtype=np.float32)\n",
    "    return particles"
   ]
  },
  {
   "cell_type": "code",
   "execution_count": 17,
   "metadata": {},
   "outputs": [],
   "source": [
    "bacteria_location = QS_detect(\"bacterialPos.dat\")"
   ]
  },
  {
   "cell_type": "code",
   "execution_count": 18,
   "metadata": {},
   "outputs": [],
   "source": [
    "t = 0\n",
    "T = 200\n",
    "\n",
    "particlePos = p.createParticles(numParticles,dim,lBounds,uBounds,kind)\n",
    "# We will store u_c and u_e (2 properties), initialized all to zero\n",
    "particleStrength = np.zeros((numParticles, 2))\n",
    "\n",
    "particleMat,cellList,numCells = cl.createCellList(particlePos,lBounds,uBounds,cellSide)\n",
    "verletList = vl.createVerletList(particleMat,cellList,numCells,cutoff)\n",
    "\n",
    "particleMat = np.hstack((particleMat, particleStrength))"
   ]
  },
  {
   "cell_type": "code",
   "execution_count": 19,
   "metadata": {},
   "outputs": [],
   "source": [
    "QScellIndex = []\n",
    "# Bacteria locate\n",
    "for i in range(len(bacteria_location)):\n",
    "    b = bacteria_location[i]\n",
    "    for j in range(len(particleMat)):\n",
    "        if np.linalg.norm(particleMat[j,0:2] - b) <= 1:\n",
    "            QScellIndex.append(j)\n",
    "            break\n",
    "\n",
    "# Initialize the u_c for that cell as u_thresh\n",
    "# knowing that particleMat is [x, y, cell, u_e, u_c]\n",
    "particleMat[QScellIndex[0:7], dim+2] = u_thresh\n",
    "\n",
    "# Set the gamma\n",
    "gamma = 0.5\n",
    "gamma_e = gamma"
   ]
  },
  {
   "cell_type": "code",
   "execution_count": 20,
   "metadata": {},
   "outputs": [],
   "source": [
    "interactiveAdvectionDiffusionReaction(T, N, \n",
    "                                      particleMat, verletList, epsilon,\n",
    "                                      dim, QScellIndex, d_1, d_2, gamma_e,\n",
    "                                      alpha, beta, u_thresh, n, gamma, \n",
    "                                      h, cutoff, numStren)"
   ]
  },
  {
   "cell_type": "code",
   "execution_count": 27,
   "metadata": {},
   "outputs": [],
   "source": [
    "gamma, gamma_e = 0.01, 0.01"
   ]
  },
  {
   "cell_type": "code",
   "execution_count": 28,
   "metadata": {},
   "outputs": [],
   "source": [
    "t = 0\n",
    "T = 200\n",
    "\n",
    "particlePos = p.createParticles(numParticles,dim,lBounds,uBounds,kind)\n",
    "# We will store u_c and u_e (2 properties), initialized all to zero\n",
    "particleStrength = np.zeros((numParticles, 2))\n",
    "\n",
    "particleMat,cellList,numCells = cl.createCellList(particlePos,lBounds,uBounds,cellSide)\n",
    "verletList = vl.createVerletList(particleMat,cellList,numCells,cutoff)\n",
    "\n",
    "particleMat = np.hstack((particleMat, particleStrength))"
   ]
  },
  {
   "cell_type": "code",
   "execution_count": 29,
   "metadata": {},
   "outputs": [],
   "source": [
    "interactiveAdvectionDiffusionReaction(T, N, \n",
    "                                      particleMat, verletList, epsilon,\n",
    "                                      dim, QScellIndex, d_1, d_2, gamma_e,\n",
    "                                      alpha, beta, u_thresh, n, gamma, \n",
    "                                      h, cutoff, numStren)"
   ]
  }
 ],
 "metadata": {
  "kernelspec": {
   "display_name": "Python 3",
   "language": "python",
   "name": "python3"
  },
  "language_info": {
   "codemirror_mode": {
    "name": "ipython",
    "version": 3
   },
   "file_extension": ".py",
   "mimetype": "text/x-python",
   "name": "python",
   "nbconvert_exporter": "python",
   "pygments_lexer": "ipython3",
   "version": "3.7.7"
  }
 },
 "nbformat": 4,
 "nbformat_minor": 4
}
